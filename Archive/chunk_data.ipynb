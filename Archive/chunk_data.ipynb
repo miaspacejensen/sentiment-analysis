{
 "cells": [
  {
   "cell_type": "markdown",
   "metadata": {},
   "source": [
    "Chunk data to accommodate github file size restriction"
   ]
  },
  {
   "cell_type": "code",
   "execution_count": 1,
   "metadata": {},
   "outputs": [],
   "source": [
    "import sys\n",
    "import os\n",
    "from pathlib import Path\n",
    "import pandas as pd\n",
    "import math"
   ]
  },
  {
   "cell_type": "code",
   "execution_count": 3,
   "metadata": {},
   "outputs": [],
   "source": [
    "sys.path.append(\"Custom Modules\")\n",
    "from custom_module import chunk"
   ]
  },
  {
   "cell_type": "code",
   "execution_count": 5,
   "metadata": {},
   "outputs": [],
   "source": [
    "dest_dir = os.getcwd()\n",
    "zip_dir = str(Path(dest_dir).parent.absolute())"
   ]
  },
  {
   "cell_type": "code",
   "execution_count": 6,
   "metadata": {},
   "outputs": [
    {
     "name": "stdout",
     "output_type": "stream",
     "text": [
      "Data size: 515738\n",
      "Chunks: 3\n",
      "Chunk size: 171913\n",
      "Starting range: 0 , 171913\n",
      "Chunking...\n",
      "(171913, 17)\n",
      "(171913, 17)\n",
      "(171912, 17)\n"
     ]
    }
   ],
   "source": [
    "chunk(\n",
    "    zip_dir, dest_dir,\n",
    "    folder = \"Data\", \n",
    "    zip_folder = \"Europe Hotel Reviews\", \n",
    "    file_name = \"Hotel_Reviews.csv\", \n",
    "    chunks = 3\n",
    ")"
   ]
  },
  {
   "cell_type": "code",
   "execution_count": 7,
   "metadata": {},
   "outputs": [
    {
     "name": "stdout",
     "output_type": "stream",
     "text": [
      "Data size: 568454\n",
      "Chunks: 4\n",
      "Chunk size: 142114\n",
      "Starting range: 0 , 142114\n",
      "Chunking...\n",
      "(142114, 10)\n",
      "(142114, 10)\n",
      "(142114, 10)\n",
      "(142112, 10)\n"
     ]
    }
   ],
   "source": [
    "chunk(\n",
    "    zip_dir, dest_dir,\n",
    "    folder = \"Data\", \n",
    "    zip_folder = \"Amazon Fine Food Reviews\", \n",
    "    file_name = \"Reviews.csv\", \n",
    "    chunks = 4\n",
    ")"
   ]
  },
  {
   "cell_type": "code",
   "execution_count": 8,
   "metadata": {},
   "outputs": [
    {
     "name": "stdout",
     "output_type": "stream",
     "text": [
      "Data size: 399999\n",
      "Chunks: 2\n",
      "Chunk size: 200000\n",
      "Starting range: 0 , 200000\n",
      "Chunking...\n",
      "(200000, 3)\n",
      "(199999, 3)\n"
     ]
    }
   ],
   "source": [
    "chunk(\n",
    "    zip_dir, dest_dir,\n",
    "    folder = \"Data\", \n",
    "    zip_folder = \"Amazon Reviews\",\n",
    "    file_name = \"test.csv\", \n",
    "    chunks = 2\n",
    ")"
   ]
  },
  {
   "cell_type": "code",
   "execution_count": 9,
   "metadata": {},
   "outputs": [
    {
     "name": "stdout",
     "output_type": "stream",
     "text": [
      "Data size: 3599999\n",
      "Chunks: 17\n",
      "Chunk size: 211765\n",
      "Starting range: 0 , 211765\n",
      "Chunking...\n",
      "(211765, 3)\n",
      "(211765, 3)\n",
      "(211765, 3)\n",
      "(211765, 3)\n",
      "(211765, 3)\n",
      "(211765, 3)\n",
      "(211765, 3)\n",
      "(211765, 3)\n",
      "(211765, 3)\n",
      "(211765, 3)\n",
      "(211765, 3)\n",
      "(211765, 3)\n",
      "(211765, 3)\n",
      "(211765, 3)\n",
      "(211765, 3)\n",
      "(211765, 3)\n",
      "(211759, 3)\n"
     ]
    }
   ],
   "source": [
    "chunk(\n",
    "    zip_dir, dest_dir,\n",
    "    folder = \"Data\", \n",
    "    zip_folder = \"Amazon Reviews\",\n",
    "    file_name = \"train.csv\", \n",
    "    chunks = 17\n",
    ")"
   ]
  },
  {
   "cell_type": "code",
   "execution_count": null,
   "metadata": {},
   "outputs": [],
   "source": []
  }
 ],
 "metadata": {
  "kernelspec": {
   "display_name": "Python 3",
   "language": "python",
   "name": "python3"
  },
  "language_info": {
   "codemirror_mode": {
    "name": "ipython",
    "version": 3
   },
   "file_extension": ".py",
   "mimetype": "text/x-python",
   "name": "python",
   "nbconvert_exporter": "python",
   "pygments_lexer": "ipython3",
   "version": "3.11.3"
  }
 },
 "nbformat": 4,
 "nbformat_minor": 2
}
